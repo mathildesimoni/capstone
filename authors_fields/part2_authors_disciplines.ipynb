{
 "cells": [
  {
   "cell_type": "code",
   "execution_count": 1,
   "metadata": {},
   "outputs": [],
   "source": [
    "# link each AUTHOR in MAG with a discipline (the one with the highest score)\n",
    "# this code uses a SAMPLE of papers and authors: it was use for testing purpose\n",
    "# To get results for all authors, the script \"authors_disciplines.py\" was run on HPC\n",
    "# the script combining code for authors AND journals is \"authors_journals_disciplines.py\"\n",
    "\n",
    "import pandas as pd"
   ]
  },
  {
   "cell_type": "code",
   "execution_count": 2,
   "metadata": {},
   "outputs": [],
   "source": [
    "df_disciplines = pd.read_csv(\"ParentChildrenDisciplines.csv\", names = ['child', 'parent'])\n",
    "df_papers = pd.read_table(\"PaperFieldsOfStudySample.txt\", names = ['paper', 'discipline', 'confidence'])\n",
    "\n",
    "# print(df_disciplines)\n",
    "# print(df_papers)"
   ]
  },
  {
   "cell_type": "code",
   "execution_count": 3,
   "metadata": {},
   "outputs": [],
   "source": [
    "df = df_papers.merge(df_disciplines, left_on='discipline', right_on='child')\n",
    "df = df[['paper', 'parent', 'confidence']]\n",
    "df = df.rename(columns = {'parent': 'field'})\n",
    "df = df[df['confidence'] >= 0.5] \n",
    "\n",
    "df = df.groupby(['paper', 'field'])['confidence'].sum().reset_index()\n",
    "df = df.rename(columns = {'confidence': 'score'})\n",
    "# print(df)"
   ]
  },
  {
   "cell_type": "code",
   "execution_count": 4,
   "metadata": {},
   "outputs": [],
   "source": [
    "df_author = pd.read_csv(\"PaperAuthorAffiliationsSample.csv\", names = ['paperId', 'authorId'])\n",
    "df_author = df_author[['authorId', 'paperId']]\n",
    "# print(df_author)"
   ]
  },
  {
   "cell_type": "code",
   "execution_count": 5,
   "metadata": {},
   "outputs": [
    {
     "name": "stdout",
     "output_type": "stream",
     "text": [
      "        authorId      field     score\n",
      "1        5113799   71924100  1.367485\n",
      "3        7574581   41008148  2.761978\n",
      "4        7574581  138885662  2.761978\n",
      "6        8319301   41008148  4.326224\n",
      "11       8778049  121332964  1.075927\n",
      "...          ...        ...       ...\n",
      "6187  3214411823  121332964  0.562425\n",
      "6188  3214411823  185592680  0.562425\n",
      "6189  3214411823  192562407  0.562425\n",
      "6190  3217261852   71924100  1.586509\n",
      "6192  3217261852  185592680  1.586509\n",
      "\n",
      "[3320 rows x 3 columns]\n"
     ]
    }
   ],
   "source": [
    "df = df_author.merge(df, left_on='paperId', right_on='paper')\n",
    "df = df[['authorId', 'paperId','field', 'score']]\n",
    "# print(df)\n",
    "\n",
    "df = df.groupby(['authorId', 'field'])['score'].sum().reset_index()\n",
    "# print(df)\n",
    "\n",
    "df = df[df.groupby(['authorId'])['score'].transform(max) == df['score']]\n",
    "print(df)\n",
    "\n",
    "df.to_csv(\"scientists_primary_dsicipline_sample.csv\", index = False)"
   ]
  },
  {
   "cell_type": "code",
   "execution_count": null,
   "metadata": {},
   "outputs": [],
   "source": []
  },
  {
   "cell_type": "code",
   "execution_count": null,
   "metadata": {},
   "outputs": [],
   "source": []
  }
 ],
 "metadata": {
  "kernelspec": {
   "display_name": "Python 3",
   "language": "python",
   "name": "python3"
  },
  "language_info": {
   "codemirror_mode": {
    "name": "ipython",
    "version": 3
   },
   "file_extension": ".py",
   "mimetype": "text/x-python",
   "name": "python",
   "nbconvert_exporter": "python",
   "pygments_lexer": "ipython3",
   "version": "3.8.3"
  }
 },
 "nbformat": 4,
 "nbformat_minor": 4
}
