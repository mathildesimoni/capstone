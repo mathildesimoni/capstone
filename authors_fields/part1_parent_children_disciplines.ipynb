{
 "cells": [
  {
   "cell_type": "code",
   "execution_count": 1,
   "metadata": {},
   "outputs": [],
   "source": [
    "# find highest level discipline for each lower level discipline speficied in MAG\n",
    "# the 19 highest level disciplines are identified in the file highLevelDisciplines.csv\n",
    "\n",
    "import pandas as pd"
   ]
  },
  {
   "cell_type": "code",
   "execution_count": 2,
   "metadata": {},
   "outputs": [],
   "source": [
    "dfhl1 = pd.read_csv(\"highLevelDisciplines.csv\", names = [\"id1\", \"name\"])\n",
    "dfhl2 = pd.read_csv(\"highLevelDisciplines.csv\", names = [\"id2\", \"name\"])\n",
    "\n",
    "dfhl = dfhl1.merge(dfhl2, left_on='name', right_on='name')\n",
    "dfhl = dfhl[['id1', 'id2']]\n",
    "\n",
    "df0 = pd.read_table(\"FieldOfStudyChildren.txt\", names = [\"parent0\", \"child0\"])\n",
    "df0 = df0[['child0', 'parent0']]\n",
    "df0 = pd.concat([df0,dfhl.rename(columns={'id1':'child0', 'id2':'parent0'})], ignore_index=True)"
   ]
  },
  {
   "cell_type": "code",
   "execution_count": 3,
   "metadata": {},
   "outputs": [],
   "source": [
    "df1 = df0.rename(columns={'child0':'child1', 'parent0':'parent1'})\n",
    "df = df0.merge(df1, left_on='parent0', right_on='child1')\n",
    "df = df[['child0','child1', 'parent1']]\n",
    "\n",
    "df2 = df0.rename(columns={'child0':'child2', 'parent0':'parent2'})\n",
    "df = df.merge(df2, left_on='parent1', right_on='child2')\n",
    "df = df[['child0','child1', 'child2', 'parent2']]\n",
    "\n",
    "df3 = df0.rename(columns={'child0':'child3', 'parent0':'parent3'})\n",
    "df = df.merge(df3, left_on='parent2', right_on='child3')\n",
    "df = df[['child0','child1', 'child2', 'child3', 'parent3']]\n",
    "\n",
    "df4 = df0.rename(columns={'child0':'child4', 'parent0':'parent4'})\n",
    "df = df.merge(df4, left_on='parent3', right_on='child4')\n",
    "df = df[['child0','child1', 'child2', 'child3','child4', 'parent4']]\n",
    "\n",
    "df = df[['child0', 'parent4']]\n",
    "df = df.drop_duplicates()\n",
    "df = df.sort_values(by=['child0', 'parent4'])\n",
    "df.tail(20)\n",
    "df.to_csv(\"ParentChildrenDisciplines.csv\", index = False, header = False)"
   ]
  },
  {
   "cell_type": "code",
   "execution_count": 4,
   "metadata": {},
   "outputs": [
    {
     "name": "stdout",
     "output_type": "stream",
     "text": [
      "          id2                   name\n",
      "0    95457728                history\n",
      "1   127313418                geology\n",
      "2   162324750              economics\n",
      "3   205649164              geography\n",
      "4   185592680              chemistry\n",
      "5   138885662             philosophy\n",
      "6   144024400              sociology\n",
      "7   192562407      materials science\n",
      "8    33923547            mathematics\n",
      "9    86803240                biology\n",
      "10   41008148       computer science\n",
      "11   17744445      political science\n",
      "12  127413603            engineering\n",
      "13   15744967             psychology\n",
      "14   39432304  environmental science\n",
      "15  144133560               business\n",
      "16  121332964                physics\n",
      "17   71924100               medicine\n",
      "18  142362112                    art\n"
     ]
    }
   ],
   "source": [
    "# checks\n",
    "\n",
    "hl = pd.read_csv(\"highLevelDisciplines.csv\", names = [\"id2\", \"name\"])\n",
    "print(hl)"
   ]
  },
  {
   "cell_type": "code",
   "execution_count": null,
   "metadata": {},
   "outputs": [],
   "source": []
  }
 ],
 "metadata": {
  "kernelspec": {
   "display_name": "Python 3",
   "language": "python",
   "name": "python3"
  },
  "language_info": {
   "codemirror_mode": {
    "name": "ipython",
    "version": 3
   },
   "file_extension": ".py",
   "mimetype": "text/x-python",
   "name": "python",
   "nbconvert_exporter": "python",
   "pygments_lexer": "ipython3",
   "version": "3.8.3"
  }
 },
 "nbformat": 4,
 "nbformat_minor": 4
}
