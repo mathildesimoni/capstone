{
 "cells": [
  {
   "cell_type": "code",
   "execution_count": 1,
   "metadata": {},
   "outputs": [
    {
     "name": "stdout",
     "output_type": "stream",
     "text": [
      "           paper      field     score\n",
      "0             23   71924100  0.584929\n",
      "1             23   86803240  0.588930\n",
      "2             23  185592680  0.588930\n",
      "3             58  121332964  1.076590\n",
      "4             79   71924100  0.524169\n",
      "...          ...        ...       ...\n",
      "29254  242079453  162324750  0.569277\n",
      "29255  242079453  192562407  0.502965\n",
      "29256  242079582   33923547  0.569200\n",
      "29257  242079582  121332964  0.559530\n",
      "29258  242079582  127413603  0.569200\n",
      "\n",
      "[29259 rows x 3 columns]\n"
     ]
    }
   ],
   "source": [
    "# link each JOURNAL in MAG with a discipline (the one with the highest score)\n",
    "# this code uses a SAMPLE of papers and journals: it was use for testing purpose\n",
    "# To get results for all journals, the script \"journals_disciplines.py\" was run on HPC\n",
    "# the script combining code for authors AND journals is \"authors_journals_disciplines.py\"\n",
    "\n",
    "import pandas as pd\n",
    "\n",
    "df_disciplines = pd.read_csv(\"ParentChildrenDisciplines.csv\", names = ['child', 'parent'])\n",
    "df_papers = pd.read_table(\"PaperFieldsOfStudySample.txt\", names = ['paper', 'discipline', 'confidence'])\n",
    "\n",
    "df = df_papers.merge(df_disciplines, left_on='discipline', right_on='child')\n",
    "df = df[['paper', 'parent', 'confidence']]\n",
    "df = df.rename(columns = {'parent': 'field'})\n",
    "df = df[df['confidence'] >= 0.5] \n",
    "\n",
    "df = df.groupby(['paper', 'field'])['confidence'].sum().reset_index()\n",
    "df = df.rename(columns = {'confidence': 'score'})\n",
    "print(df)"
   ]
  },
  {
   "cell_type": "code",
   "execution_count": 2,
   "metadata": {},
   "outputs": [
    {
     "name": "stdout",
     "output_type": "stream",
     "text": [
      "      journalId     field     score\n",
      "1  5.604758e+07  17744445  2.440752\n",
      "5  2.764870e+09  17744445  3.642622\n"
     ]
    },
    {
     "name": "stderr",
     "output_type": "stream",
     "text": [
      "/Users/mathildesimoni/opt/anaconda3/lib/python3.8/site-packages/IPython/core/interactiveshell.py:3071: DtypeWarning: Columns (0,1) have mixed types.Specify dtype option on import or set low_memory=False.\n",
      "  has_raised = await self.run_ast_nodes(code_ast.body, cell_name,\n"
     ]
    }
   ],
   "source": [
    "# code for journals starts here\n",
    "df_journal = pd.read_csv(\"PaperJournalSample.csv\", names = ['paperId', 'journalId'])\n",
    "df_journal = df_journal[['journalId', 'paperId']]\n",
    "# print(df_journal)\n",
    "\n",
    "df = df_journal.merge(df, left_on='paperId', right_on='paper')\n",
    "df = df[['journalId', 'paperId','field', 'score']]\n",
    "# print(df)\n",
    "\n",
    "df = df.groupby(['journalId', 'field'])['score'].sum().reset_index()\n",
    "# print(df)\n",
    "\n",
    "df = df[df.groupby(['journalId'])['score'].transform(max) == df['score']]\n",
    "print(df)\n",
    "\n",
    "df.to_csv(\"journals_primary_dsicipline_sample.csv\", index = False)"
   ]
  },
  {
   "cell_type": "code",
   "execution_count": null,
   "metadata": {},
   "outputs": [],
   "source": []
  }
 ],
 "metadata": {
  "kernelspec": {
   "display_name": "Python 3",
   "language": "python",
   "name": "python3"
  },
  "language_info": {
   "codemirror_mode": {
    "name": "ipython",
    "version": 3
   },
   "file_extension": ".py",
   "mimetype": "text/x-python",
   "name": "python",
   "nbconvert_exporter": "python",
   "pygments_lexer": "ipython3",
   "version": "3.8.3"
  }
 },
 "nbformat": 4,
 "nbformat_minor": 4
}
